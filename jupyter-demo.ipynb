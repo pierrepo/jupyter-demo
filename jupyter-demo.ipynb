{
 "cells": [
  {
   "cell_type": "markdown",
   "metadata": {},
   "source": [
    "# Démo de notebook Jupyter\n",
    "\n",
    "Certaines cellules sont du code (ici Python 3), d'autres sont des cellules *Markdown*\n",
    "\n",
    "*Markdown* est un langage à balises qui permet très **simplement** d'éditer du texte.\n",
    "\n",
    "On peut y mettre des liens, par exemple vers le [cours de Python](https://python.sdv.univ-paris-diderot.fr/).\n"
   ]
  },
  {
   "cell_type": "markdown",
   "metadata": {},
   "source": [
    "Des équations :\n",
    "\n",
    "$$\n",
    "E_c = \\frac{1}{2} m v^2\n",
    "$$"
   ]
  },
  {
   "cell_type": "markdown",
   "metadata": {},
   "source": [
    "Mais aussi des images, \n",
    "\n",
    "![](http://jupyter.org/assets/main-logo.svg)"
   ]
  },
  {
   "cell_type": "markdown",
   "metadata": {},
   "source": [
    "des gifs animés (ici le jeu de la vie),\n",
    "\n",
    "![](https://media.giphy.com/media/BsxVinGwVtd0A/giphy.gif)"
   ]
  },
  {
   "cell_type": "markdown",
   "metadata": {},
   "source": [
    "des tableaux : \n",
    "\n",
    "| Nombre       |     Cursus    |\n",
    "| ------------ | ------------- | \n",
    "| 14           |     M1 BI     |\n",
    "| 3            |     M2 BI     | \n",
    "| 12           |     M2 ISDD   |"
   ]
  },
  {
   "cell_type": "markdown",
   "metadata": {},
   "source": [
    "Les cellules de code peuvent contenir du Python *classique*"
   ]
  },
  {
   "cell_type": "code",
   "execution_count": null,
   "metadata": {},
   "outputs": [],
   "source": [
    "a = 2\n",
    "b = \"Python\"\n",
    "c = {\"name\": \"Jupyter notebook\", \"version\":1.3}"
   ]
  },
  {
   "cell_type": "code",
   "execution_count": null,
   "metadata": {},
   "outputs": [],
   "source": [
    "print(a*b)"
   ]
  },
  {
   "cell_type": "code",
   "execution_count": null,
   "metadata": {},
   "outputs": [],
   "source": [
    "\"{} -- version {}\".format(c[\"name\"], c[\"version\"])"
   ]
  },
  {
   "cell_type": "markdown",
   "metadata": {},
   "source": [
    "# Graphiques \n",
    "\n",
    "Les graphiques sont *incrustés* dans le notebook avec la commande `%matplotlib inline`"
   ]
  },
  {
   "cell_type": "code",
   "execution_count": null,
   "metadata": {},
   "outputs": [],
   "source": [
    "import numpy as np\n",
    "import matplotlib.pyplot as plt\n",
    "%matplotlib inline"
   ]
  },
  {
   "cell_type": "markdown",
   "metadata": {},
   "source": [
    "Dans un notebook, l'appuie des touches `Shift` + `Tab` dans les parenthèses d'appel d'une fonction, affiche une fenêtre d'aide ;-)"
   ]
  },
  {
   "cell_type": "code",
   "execution_count": null,
   "metadata": {},
   "outputs": [],
   "source": [
    "x = np.linspace(0, 10, 30)\n",
    "y = 1 * x**2 + 50 * np.cos(x) -4 * x\n",
    "plt.plot(x, y)"
   ]
  },
  {
   "cell_type": "markdown",
   "metadata": {},
   "source": [
    "Matplotlib est un module très puissant qui permet de construire n'importe quel type de graphique.\n",
    "\n",
    "Voici quelques ressources supplémentaires si vous souhaitez approfondir ces possibilités :\n",
    "\n",
    "- [Gallerie](https://matplotlib.org/gallery.html) de graphiques réalisés avec matplotlib et le code correspondant.\n",
    "- [Matplotlib tutorial](https://www.labri.fr/perso/nrougier/teaching/matplotlib/>), par Nicolas P. Rougier. Une référence !\n",
    "- [Ten Simple Rules for Better Figures](https://doi.org/10.1371/journal.pcbi.1003833), Rougier *et al.*, 2014, PLOS Comput Biol\n",
    "\n",
    "Enfin, d'autres modules comme [seaborn](https://seaborn.pydata.org/), [Bokeh](https://bokeh.pydata.org/en/latest/) ([démo](https://demo.bokehplots.com/apps/movies)) ou [plotly](https://plot.ly/) permettent de générer des graphiques plus élégants ou interactifs."
   ]
  },
  {
   "cell_type": "markdown",
   "metadata": {},
   "source": [
    "# Les magic commands\n",
    "\n",
    "## %whos\n",
    "\n",
    "La liste des variables définies dans le notebook :"
   ]
  },
  {
   "cell_type": "code",
   "execution_count": null,
   "metadata": {},
   "outputs": [],
   "source": [
    "%whos"
   ]
  },
  {
   "cell_type": "markdown",
   "metadata": {},
   "source": [
    "## %history\n",
    "\n",
    "La liste des commandes lancées jusqu'à présent :"
   ]
  },
  {
   "cell_type": "code",
   "execution_count": null,
   "metadata": {},
   "outputs": [],
   "source": [
    "%history"
   ]
  },
  {
   "cell_type": "markdown",
   "metadata": {},
   "source": [
    "## %%timeit\n",
    "\n",
    "Un bon moyen d'optimiser l'exécution de certains morceaux de code.\n",
    "\n",
    "Comment supprimer le plus rapidement possible une valeur donnée d'une liste ? `while` vs `for`"
   ]
  },
  {
   "cell_type": "code",
   "execution_count": null,
   "metadata": {},
   "outputs": [],
   "source": [
    "%%timeit \n",
    "lst = [1, 2, 3, 4, 5, 6, 9, 1, 8, 7, 1, 0, 1, -1, 1]\n",
    "while 1 in lst:\n",
    "    lst.remove(1)"
   ]
  },
  {
   "cell_type": "code",
   "execution_count": null,
   "metadata": {},
   "outputs": [],
   "source": [
    "%%timeit \n",
    "lst = [1, 2, 3, 4, 5, 6, 9, 1, 8, 7, 1, 0, 1, -1, 1]\n",
    "nb_1 = lst.count(1)\n",
    "for i in range(nb_1):\n",
    "    lst.remove(1)"
   ]
  },
  {
   "cell_type": "markdown",
   "metadata": {},
   "source": [
    "# Du Python, mais pas que..."
   ]
  },
  {
   "cell_type": "markdown",
   "metadata": {},
   "source": [
    "## Bash\n",
    "\n",
    "Une cellule de code peut passer de Python à Bash :"
   ]
  },
  {
   "cell_type": "code",
   "execution_count": null,
   "metadata": {},
   "outputs": [],
   "source": [
    "%%bash\n",
    "pwd\n",
    "echo \"$USER / $HOSTNAME\"\n",
    "ls | wc -l "
   ]
  },
  {
   "cell_type": "markdown",
   "metadata": {},
   "source": [
    "## Python 2 (le retour)\n",
    "\n",
    "Une cellule de code peut passer de Python 3 à Python 2 :"
   ]
  },
  {
   "cell_type": "code",
   "execution_count": null,
   "metadata": {},
   "outputs": [],
   "source": [
    "%%python2\n",
    "print \"hello\""
   ]
  },
  {
   "cell_type": "markdown",
   "metadata": {},
   "source": [
    "mais le reste du notebook est bien en Python 3 :"
   ]
  },
  {
   "cell_type": "code",
   "execution_count": null,
   "metadata": {},
   "outputs": [],
   "source": [
    "print \"Python ?\""
   ]
  },
  {
   "cell_type": "markdown",
   "metadata": {},
   "source": [
    "## HTML\n",
    "\n",
    "Une cellule de code peut passer de Python à HTML :"
   ]
  },
  {
   "cell_type": "code",
   "execution_count": null,
   "metadata": {},
   "outputs": [],
   "source": [
    "%%html\n",
    "<img src = \"https://freethoughtblogs.com/affinity/files/2017/06/good-news-everyone.jpg\">\n",
    "<h1>Jupyter Notebooks can render HTML</h1>"
   ]
  },
  {
   "cell_type": "markdown",
   "metadata": {},
   "source": [
    "## Last but not least... R\n",
    "\n",
    "Une cellule peut aussi contenir du code R.\n",
    "\n",
    "Mais il faut prendre quelques précautions."
   ]
  },
  {
   "cell_type": "code",
   "execution_count": null,
   "metadata": {},
   "outputs": [],
   "source": [
    "%load_ext rpy2.ipython"
   ]
  },
  {
   "cell_type": "code",
   "execution_count": null,
   "metadata": {},
   "outputs": [],
   "source": [
    "%%R\n",
    "version"
   ]
  },
  {
   "cell_type": "code",
   "execution_count": null,
   "metadata": {},
   "outputs": [],
   "source": [
    "a <- 42\n",
    "print(a)"
   ]
  },
  {
   "cell_type": "code",
   "execution_count": null,
   "metadata": {},
   "outputs": [],
   "source": []
  }
 ],
 "metadata": {
  "kernelspec": {
   "display_name": "Python 3",
   "language": "python",
   "name": "python3"
  },
  "language_info": {
   "codemirror_mode": {
    "name": "ipython",
    "version": 3
   },
   "file_extension": ".py",
   "mimetype": "text/x-python",
   "name": "python",
   "nbconvert_exporter": "python",
   "pygments_lexer": "ipython3",
   "version": "3.6.6"
  }
 },
 "nbformat": 4,
 "nbformat_minor": 2
}
